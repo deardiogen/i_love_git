{
  "nbformat": 4,
  "nbformat_minor": 0,
  "metadata": {
    "colab": {
      "provenance": [],
      "authorship_tag": "ABX9TyPXei0NMfO/qVFuJdRdL8bq",
      "include_colab_link": true
    },
    "kernelspec": {
      "name": "python3",
      "display_name": "Python 3"
    },
    "language_info": {
      "name": "python"
    }
  },
  "cells": [
    {
      "cell_type": "markdown",
      "metadata": {
        "id": "view-in-github",
        "colab_type": "text"
      },
      "source": [
        "<a href=\"https://colab.research.google.com/github/deardiogen/i_love_git/blob/main/part_01/demo.ipynb\" target=\"_parent\"><img src=\"https://colab.research.google.com/assets/colab-badge.svg\" alt=\"Open In Colab\"/></a>"
      ]
    },
    {
      "cell_type": "code",
      "execution_count": 1,
      "metadata": {
        "colab": {
          "base_uri": "https://localhost:8080/"
        },
        "id": "83lfhBq5E7w5",
        "outputId": "e928e673-ccd9-4766-af44-c25ffaa9bb79"
      },
      "outputs": [
        {
          "output_type": "stream",
          "name": "stdout",
          "text": [
            "Hello, git!\n"
          ]
        }
      ],
      "source": [
        "print(\"Hello, git!\")"
      ]
    },
    {
      "cell_type": "markdown",
      "source": [
        "Тут тоже работает разметка с формулами:\n",
        "\n",
        "$$\n",
        "x_0 = x_1 + x^2\n",
        "$$"
      ],
      "metadata": {
        "id": "VZBOAQVVFH77"
      }
    }
  ]
}